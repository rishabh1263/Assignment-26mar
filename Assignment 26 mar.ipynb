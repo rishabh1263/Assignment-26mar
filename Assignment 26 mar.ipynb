{
 "cells": [
  {
   "cell_type": "markdown",
   "id": "b20d0ea3",
   "metadata": {},
   "source": [
    "Q1:\n",
    "Simple linear regression has only one x and one y variable. Multiple linear regression has one y and two or more x variables. For instance, when we predict rent based on square feet alone that is simple linear regression."
   ]
  },
  {
   "cell_type": "markdown",
   "id": "0eafc586",
   "metadata": {},
   "source": [
    "Q2:\n",
    "    How to Test the Assumptions of Linear Regression?\n",
    "Assumption One: Linearity of the Data.\n",
    "Assumption Two: Predictors (x) are Independent & Observed with Negligible Error.\n",
    "Assumption Three: Residual Errors have a Mean Value of Zero.\n",
    "Assumption Four: Residual Errors have Constant Variance."
   ]
  },
  {
   "cell_type": "markdown",
   "id": "467bcd43",
   "metadata": {},
   "source": [
    "Q3:\n",
    "Interpret the slope: If the speed of the club hitting the ball increases by 1 mph, then the model predicts that the length the ball travels increases by 57.66 yards. Interpret the intercept: If the ball is hit with a speed of 0 mph, then the model predicts that the length the ball travels will be 3.18 yards."
   ]
  },
  {
   "cell_type": "markdown",
   "id": "1a574127",
   "metadata": {},
   "source": [
    "Q4:\n",
    "Gradient descent is an optimization algorithm which is commonly-used to train machine learning models and neural networks. Training data helps these models learn over time, and the cost function within gradient descent specifically acts as a barometer, gauging its accuracy with each iteration of parameter updates."
   ]
  },
  {
   "cell_type": "markdown",
   "id": "663a194b",
   "metadata": {},
   "source": [
    "Q5:\n",
    "Multiple regression is a broader class of regressions that encompasses linear and nonlinear regressions with multiple explanatory variables. Whereas linear regress only has one independent variable impacting the slope of the relationship, multiple regression incorporates multiple independent variables."
   ]
  },
  {
   "cell_type": "markdown",
   "id": "9b7082a6",
   "metadata": {},
   "source": [
    "Q6:\n",
    "Multicollinearity happens when independent variables in the regression model are highly correlated to each other. It makes it hard to interpret of model and also creates an overfitting problem. It is a common assumption that people test before selecting the variables into the regression model."
   ]
  },
  {
   "cell_type": "markdown",
   "id": "389abddc",
   "metadata": {},
   "source": [
    "Q7:\n",
    "A polynomial regression model is a machine learning model that can capture non-linear relationships between variables by fitting a non-linear regression line, which may not be possible with simple linear regression. It is used when linear regression models may not adequately capture the complexity of the relationship"
   ]
  },
  {
   "cell_type": "markdown",
   "id": "59750174",
   "metadata": {},
   "source": [
    "Q8:\n",
    "What are the advantages of polynomial regression over linear regression?\n",
    "Advantages of using Polynomial Regression:\n",
    "\n",
    "Polynomial provides the best approximation of the relationship between the dependent and independent variable. A Broad range of function can be fit under it. Polynomial basically fits a wide range of curvature."
   ]
  }
 ],
 "metadata": {
  "kernelspec": {
   "display_name": "Python 3 (ipykernel)",
   "language": "python",
   "name": "python3"
  },
  "language_info": {
   "codemirror_mode": {
    "name": "ipython",
    "version": 3
   },
   "file_extension": ".py",
   "mimetype": "text/x-python",
   "name": "python",
   "nbconvert_exporter": "python",
   "pygments_lexer": "ipython3",
   "version": "3.9.13"
  }
 },
 "nbformat": 4,
 "nbformat_minor": 5
}
